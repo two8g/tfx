{
 "cells": [
  {
   "cell_type": "markdown",
   "metadata": {
    "colab_type": "text",
    "id": "MV-CWK2kI-iH"
   },
   "source": [
    "## TFMA Notebook example\n",
    "\n",
    "This notebook describes how to export your model for TFMA and demonstrates the analysis tooling it offers.\n",
    "\n",
    "Note: Please make sure to follow the instructions in [README.md](https://github.com/tensorflow/tfx/blob/master/tfx/examples/chicago_taxi/README.md) when running this notebook\n",
    "## Setup\n",
    "\n",
    "Import necessary packages."
   ]
  },
  {
   "cell_type": "code",
   "execution_count": 1,
   "metadata": {
    "colab": {},
    "colab_type": "code",
    "id": "xFbGgkXAJCJ7"
   },
   "outputs": [
    {
     "name": "stderr",
     "output_type": "stream",
     "text": [
      "WARNING: Logging before flag parsing goes to stderr.\n",
      "W0815 11:45:39.757071 140466153727808 deprecation_wrapper.py:119] From /home/two8g/tfx-source/tfx/examples/chicago_taxi/taxi/local/lib/python2.7/site-packages/tensorflow_transform/beam/common.py:51: The name tf.ConfigProto is deprecated. Please use tf.compat.v1.ConfigProto instead.\n",
      "\n",
      "W0815 11:45:39.765616 140466153727808 deprecation_wrapper.py:119] From /home/two8g/tfx-source/tfx/examples/chicago_taxi/taxi/local/lib/python2.7/site-packages/tensorflow_transform/beam/impl.py:283: The name tf.SparseTensorValue is deprecated. Please use tf.compat.v1.SparseTensorValue instead.\n",
      "\n"
     ]
    }
   ],
   "source": [
    "import apache_beam as beam  \n",
    "import os\n",
    "import preprocess\n",
    "import shutil\n",
    "import tensorflow as tf\n",
    "import tensorflow_data_validation as tfdv\n",
    "import tensorflow_model_analysis as tfma\n",
    "from google.protobuf import text_format \n",
    "from tensorflow.python.lib.io import file_io\n",
    "from tensorflow_transform.beam.tft_beam_io import transform_fn_io\n",
    "from tensorflow_transform.coders import example_proto_coder\n",
    "from tensorflow_transform.saved import saved_transform_io\n",
    "from tensorflow_transform.tf_metadata import dataset_schema\n",
    "from tensorflow_transform.tf_metadata import schema_utils\n",
    "from trainer import task\n",
    "from trainer import taxi"
   ]
  },
  {
   "cell_type": "markdown",
   "metadata": {
    "colab_type": "text",
    "id": "zpCt_emiJDeb"
   },
   "source": [
    "Helper functions and some constants for running the notebook locally."
   ]
  },
  {
   "cell_type": "code",
   "execution_count": 2,
   "metadata": {
    "colab": {},
    "colab_type": "code",
    "id": "1Axm8YxCJF7K"
   },
   "outputs": [],
   "source": [
    "BASE_DIR = os.getcwd()\n",
    "\n",
    "DATA_DIR = os.path.join(BASE_DIR, 'data')\n",
    "\n",
    "OUTPUT_DIR = os.path.join(BASE_DIR, 'chicago_taxi_output')\n",
    "\n",
    "# Base dir containing train and eval data\n",
    "TRAIN_DATA_DIR = os.path.join(DATA_DIR, 'train')\n",
    "EVAL_DATA_DIR = os.path.join(DATA_DIR, 'eval')\n",
    "\n",
    "# Base dir where TFT writes training data\n",
    "TFT_TRAIN_OUTPUT_BASE_DIR = os.path.join(OUTPUT_DIR, 'tft_train')\n",
    "TFT_TRAIN_FILE_PREFIX = 'train_transformed'\n",
    "\n",
    "# Base dir where TFT writes eval data\n",
    "TFT_EVAL_OUTPUT_BASE_DIR = os.path.join(OUTPUT_DIR, 'tft_eval')\n",
    "TFT_EVAL_FILE_PREFIX = 'eval_transformed'\n",
    "\n",
    "TF_OUTPUT_BASE_DIR = os.path.join(OUTPUT_DIR, 'tf')\n",
    "\n",
    "# Base dir where TFMA writes eval data\n",
    "TFMA_OUTPUT_BASE_DIR = os.path.join(OUTPUT_DIR, 'tfma')\n",
    "\n",
    "SERVING_MODEL_DIR = 'serving_model_dir'\n",
    "EVAL_MODEL_DIR = 'eval_model_dir'\n",
    "\n",
    "\n",
    "def get_tft_train_output_dir(run_id):\n",
    "    return _get_output_dir(TFT_TRAIN_OUTPUT_BASE_DIR, run_id)\n",
    "\n",
    "\n",
    "def get_tft_eval_output_dir(run_id):\n",
    "    return _get_output_dir(TFT_EVAL_OUTPUT_BASE_DIR, run_id)\n",
    "\n",
    "\n",
    "def get_tf_output_dir(run_id):\n",
    "    return _get_output_dir(TF_OUTPUT_BASE_DIR, run_id)\n",
    "\n",
    "def get_tfma_output_dir(run_id):\n",
    "    return _get_output_dir(TFMA_OUTPUT_BASE_DIR, run_id)\n",
    "\n",
    "def _get_output_dir(base_dir, run_id):\n",
    "    return os.path.join(base_dir, 'run_' + str(run_id))\n",
    "\n",
    "def get_schema_file():\n",
    "    return os.path.join(OUTPUT_DIR, 'schema.pbtxt')\n"
   ]
  },
  {
   "cell_type": "markdown",
   "metadata": {
    "colab_type": "text",
    "id": "YDaWlFehJH7r"
   },
   "source": [
    "Clean up output directories."
   ]
  },
  {
   "cell_type": "code",
   "execution_count": 3,
   "metadata": {
    "colab": {},
    "colab_type": "code",
    "id": "E7zx4bAOJKZN"
   },
   "outputs": [],
   "source": [
    "shutil.rmtree(TFT_TRAIN_OUTPUT_BASE_DIR, ignore_errors=True)\n",
    "shutil.rmtree(TFT_EVAL_OUTPUT_BASE_DIR, ignore_errors=True)\n",
    "shutil.rmtree(TF_OUTPUT_BASE_DIR, ignore_errors=True)\n",
    "shutil.rmtree(get_schema_file(), ignore_errors=True)"
   ]
  },
  {
   "cell_type": "markdown",
   "metadata": {
    "colab_type": "text",
    "id": "ZXK_1T-JJL9s"
   },
   "source": [
    "## Compute and visualize descriptive data statistics"
   ]
  },
  {
   "cell_type": "code",
   "execution_count": 4,
   "metadata": {
    "colab": {},
    "colab_type": "code",
    "id": "hXYNl387JOfp"
   },
   "outputs": [
    {
     "name": "stderr",
     "output_type": "stream",
     "text": [
      "W0815 11:45:42.165729 140466153727808 deprecation_wrapper.py:119] From /home/two8g/tfx-source/tfx/examples/chicago_taxi/taxi/local/lib/python2.7/site-packages/tensorflow_data_validation/utils/stats_gen_lib.py:144: The name tf.gfile.Exists is deprecated. Please use tf.io.gfile.exists instead.\n",
      "\n",
      "W0815 11:45:42.211827 140466153727808 deprecation_wrapper.py:119] From /home/two8g/tfx-source/tfx/examples/chicago_taxi/taxi/local/lib/python2.7/site-packages/tensorflow_data_validation/utils/stats_gen_lib.py:292: The name tf.gfile.Glob is deprecated. Please use tf.io.gfile.glob instead.\n",
      "\n",
      "W0815 11:45:42.219322 140466153727808 deprecation_wrapper.py:119] From /home/two8g/tfx-source/tfx/examples/chicago_taxi/taxi/local/lib/python2.7/site-packages/tensorflow_data_validation/utils/stats_gen_lib.py:298: The name tf.gfile.GFile is deprecated. Please use tf.io.gfile.GFile instead.\n",
      "\n",
      "W0815 11:45:42.305259 140466153727808 deprecation_wrapper.py:119] From /home/two8g/tfx-source/tfx/examples/chicago_taxi/taxi/local/lib/python2.7/site-packages/tensorflow_transform/analyzers.py:948: The name tf.Session is deprecated. Please use tf.compat.v1.Session instead.\n",
      "\n",
      "W0815 11:45:42.439794 140466153727808 deprecation_wrapper.py:119] From /home/two8g/tfx-source/tfx/examples/chicago_taxi/taxi/local/lib/python2.7/site-packages/tensorflow_transform/analyzers.py:994: The name tf.placeholder is deprecated. Please use tf.compat.v1.placeholder instead.\n",
      "\n",
      "W0815 11:45:49.979104 140466153727808 tfrecordio.py:57] Couldn't find python-snappy so the implementation of _TFRecordUtil._masked_crc32c is not as fast as it could be.\n",
      "W0815 11:45:50.158291 140466153727808 deprecation.py:323] From /home/two8g/tfx-source/tfx/examples/chicago_taxi/taxi/local/lib/python2.7/site-packages/tensorflow_data_validation/utils/stats_gen_lib.py:328: tf_record_iterator (from tensorflow.python.lib.io.tf_record) is deprecated and will be removed in a future version.\n",
      "Instructions for updating:\n",
      "Use eager execution and: \n",
      "`tf.data.TFRecordDataset(path)`\n"
     ]
    }
   ],
   "source": [
    "# Compute stats over training data.\n",
    "train_stats = tfdv.generate_statistics_from_csv(data_location=os.path.join(TRAIN_DATA_DIR, 'data.csv'))"
   ]
  },
  {
   "cell_type": "code",
   "execution_count": 5,
   "metadata": {
    "colab": {},
    "colab_type": "code",
    "id": "baGGqXSaJQeT"
   },
   "outputs": [
    {
     "data": {
      "text/html": [
       "<iframe id='facets-iframe' width=\"100%\" height=\"500px\"></iframe>\n",
       "        <script>\n",
       "        facets_iframe = document.getElementById('facets-iframe');\n",
       "        facets_html = '<link rel=\"import\" href=\"https://raw.githubusercontent.com/PAIR-code/facets/master/facets-dist/facets-jupyter.html\"><facets-overview proto-input=\"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\"></facets-overview>';\n",
       "        facets_iframe.contentWindow.document.write(facets_html);\n",
       "         facets_iframe.id = \"\";\n",
       "         setTimeout(() => {\n",
       "           facets_iframe.setAttribute('height', facets_iframe.contentWindow.document.body.offsetHeight + 'px')\n",
       "         }, 1500)\n",
       "         </script>"
      ],
      "text/plain": [
       "<IPython.core.display.HTML object>"
      ]
     },
     "metadata": {},
     "output_type": "display_data"
    }
   ],
   "source": [
    "# Visualize training data stats.\n",
    "tfdv.visualize_statistics(train_stats)"
   ]
  },
  {
   "cell_type": "markdown",
   "metadata": {
    "colab_type": "text",
    "id": "AsOJi9U3JR35"
   },
   "source": [
    "## Infer a schema"
   ]
  },
  {
   "cell_type": "code",
   "execution_count": 6,
   "metadata": {
    "colab": {},
    "colab_type": "code",
    "id": "JSUFwSKoJTtT"
   },
   "outputs": [
    {
     "data": {
      "text/html": [
       "<div>\n",
       "<style scoped>\n",
       "    .dataframe tbody tr th:only-of-type {\n",
       "        vertical-align: middle;\n",
       "    }\n",
       "\n",
       "    .dataframe tbody tr th {\n",
       "        vertical-align: top;\n",
       "    }\n",
       "\n",
       "    .dataframe thead th {\n",
       "        text-align: right;\n",
       "    }\n",
       "</style>\n",
       "<table border=\"1\" class=\"dataframe\">\n",
       "  <thead>\n",
       "    <tr style=\"text-align: right;\">\n",
       "      <th></th>\n",
       "      <th>Type</th>\n",
       "      <th>Presence</th>\n",
       "      <th>Valency</th>\n",
       "      <th>Domain</th>\n",
       "    </tr>\n",
       "    <tr>\n",
       "      <th>Feature name</th>\n",
       "      <th></th>\n",
       "      <th></th>\n",
       "      <th></th>\n",
       "      <th></th>\n",
       "    </tr>\n",
       "  </thead>\n",
       "  <tbody>\n",
       "    <tr>\n",
       "      <th>'fare'</th>\n",
       "      <td>FLOAT</td>\n",
       "      <td>required</td>\n",
       "      <td>single</td>\n",
       "      <td>-</td>\n",
       "    </tr>\n",
       "    <tr>\n",
       "      <th>'trip_start_hour'</th>\n",
       "      <td>INT</td>\n",
       "      <td>required</td>\n",
       "      <td>single</td>\n",
       "      <td>-</td>\n",
       "    </tr>\n",
       "    <tr>\n",
       "      <th>'pickup_census_tract'</th>\n",
       "      <td>BYTES</td>\n",
       "      <td>optional</td>\n",
       "      <td></td>\n",
       "      <td>-</td>\n",
       "    </tr>\n",
       "    <tr>\n",
       "      <th>'dropoff_census_tract'</th>\n",
       "      <td>FLOAT</td>\n",
       "      <td>optional</td>\n",
       "      <td>single</td>\n",
       "      <td>-</td>\n",
       "    </tr>\n",
       "    <tr>\n",
       "      <th>'company'</th>\n",
       "      <td>STRING</td>\n",
       "      <td>optional</td>\n",
       "      <td>single</td>\n",
       "      <td>'company'</td>\n",
       "    </tr>\n",
       "    <tr>\n",
       "      <th>'trip_start_timestamp'</th>\n",
       "      <td>INT</td>\n",
       "      <td>required</td>\n",
       "      <td>single</td>\n",
       "      <td>-</td>\n",
       "    </tr>\n",
       "    <tr>\n",
       "      <th>'pickup_longitude'</th>\n",
       "      <td>FLOAT</td>\n",
       "      <td>required</td>\n",
       "      <td>single</td>\n",
       "      <td>-</td>\n",
       "    </tr>\n",
       "    <tr>\n",
       "      <th>'trip_start_month'</th>\n",
       "      <td>INT</td>\n",
       "      <td>required</td>\n",
       "      <td>single</td>\n",
       "      <td>-</td>\n",
       "    </tr>\n",
       "    <tr>\n",
       "      <th>'trip_miles'</th>\n",
       "      <td>FLOAT</td>\n",
       "      <td>required</td>\n",
       "      <td>single</td>\n",
       "      <td>-</td>\n",
       "    </tr>\n",
       "    <tr>\n",
       "      <th>'dropoff_longitude'</th>\n",
       "      <td>FLOAT</td>\n",
       "      <td>optional</td>\n",
       "      <td>single</td>\n",
       "      <td>-</td>\n",
       "    </tr>\n",
       "    <tr>\n",
       "      <th>'dropoff_community_area'</th>\n",
       "      <td>FLOAT</td>\n",
       "      <td>optional</td>\n",
       "      <td>single</td>\n",
       "      <td>-</td>\n",
       "    </tr>\n",
       "    <tr>\n",
       "      <th>'pickup_community_area'</th>\n",
       "      <td>INT</td>\n",
       "      <td>required</td>\n",
       "      <td>single</td>\n",
       "      <td>-</td>\n",
       "    </tr>\n",
       "    <tr>\n",
       "      <th>'payment_type'</th>\n",
       "      <td>STRING</td>\n",
       "      <td>required</td>\n",
       "      <td>single</td>\n",
       "      <td>'payment_type'</td>\n",
       "    </tr>\n",
       "    <tr>\n",
       "      <th>'trip_seconds'</th>\n",
       "      <td>FLOAT</td>\n",
       "      <td>optional</td>\n",
       "      <td>single</td>\n",
       "      <td>-</td>\n",
       "    </tr>\n",
       "    <tr>\n",
       "      <th>'trip_start_day'</th>\n",
       "      <td>INT</td>\n",
       "      <td>required</td>\n",
       "      <td>single</td>\n",
       "      <td>-</td>\n",
       "    </tr>\n",
       "    <tr>\n",
       "      <th>'tips'</th>\n",
       "      <td>FLOAT</td>\n",
       "      <td>required</td>\n",
       "      <td>single</td>\n",
       "      <td>-</td>\n",
       "    </tr>\n",
       "    <tr>\n",
       "      <th>'pickup_latitude'</th>\n",
       "      <td>FLOAT</td>\n",
       "      <td>required</td>\n",
       "      <td>single</td>\n",
       "      <td>-</td>\n",
       "    </tr>\n",
       "    <tr>\n",
       "      <th>'dropoff_latitude'</th>\n",
       "      <td>FLOAT</td>\n",
       "      <td>optional</td>\n",
       "      <td>single</td>\n",
       "      <td>-</td>\n",
       "    </tr>\n",
       "  </tbody>\n",
       "</table>\n",
       "</div>"
      ],
      "text/plain": [
       "                            Type  Presence Valency          Domain\n",
       "Feature name                                                      \n",
       "'fare'                     FLOAT  required  single               -\n",
       "'trip_start_hour'            INT  required  single               -\n",
       "'pickup_census_tract'      BYTES  optional                       -\n",
       "'dropoff_census_tract'     FLOAT  optional  single               -\n",
       "'company'                 STRING  optional  single       'company'\n",
       "'trip_start_timestamp'       INT  required  single               -\n",
       "'pickup_longitude'         FLOAT  required  single               -\n",
       "'trip_start_month'           INT  required  single               -\n",
       "'trip_miles'               FLOAT  required  single               -\n",
       "'dropoff_longitude'        FLOAT  optional  single               -\n",
       "'dropoff_community_area'   FLOAT  optional  single               -\n",
       "'pickup_community_area'      INT  required  single               -\n",
       "'payment_type'            STRING  required  single  'payment_type'\n",
       "'trip_seconds'             FLOAT  optional  single               -\n",
       "'trip_start_day'             INT  required  single               -\n",
       "'tips'                     FLOAT  required  single               -\n",
       "'pickup_latitude'          FLOAT  required  single               -\n",
       "'dropoff_latitude'         FLOAT  optional  single               -"
      ]
     },
     "metadata": {},
     "output_type": "display_data"
    },
    {
     "data": {
      "text/html": [
       "<div>\n",
       "<style scoped>\n",
       "    .dataframe tbody tr th:only-of-type {\n",
       "        vertical-align: middle;\n",
       "    }\n",
       "\n",
       "    .dataframe tbody tr th {\n",
       "        vertical-align: top;\n",
       "    }\n",
       "\n",
       "    .dataframe thead th {\n",
       "        text-align: right;\n",
       "    }\n",
       "</style>\n",
       "<table border=\"1\" class=\"dataframe\">\n",
       "  <thead>\n",
       "    <tr style=\"text-align: right;\">\n",
       "      <th></th>\n",
       "      <th>Values</th>\n",
       "    </tr>\n",
       "    <tr>\n",
       "      <th>Domain</th>\n",
       "      <th></th>\n",
       "    </tr>\n",
       "  </thead>\n",
       "  <tbody>\n",
       "    <tr>\n",
       "      <th>'company'</th>\n",
       "      <td>'0118 - 42111 Godfrey S.Awir', '0694 - 59280 Chinesco Trans Inc', '1085 - 72312 N and W Cab Co', '2733 - 74600 Benny Jona', '2809 - 95474 C &amp; D Cab Co Inc.', '3011 - 66308 JBL Cab Inc.', '3152 - 97284 Crystal Abernathy', '3201 - C&amp;D Cab Co Inc', '3201 - CID Cab Co Inc', '3253 - 91138 Gaither Cab Co.', '3385 - 23210 Eman Cab', '3623 - 72222 Arrington Enterprises', '3897 - Ilie Malec', '4053 - Adwar H. Nikola', '4197 - 41842 Royal Star', '4615 - 83503 Tyrone Henderson', '4615 - Tyrone Henderson', '4623 - Jay Kim', '5006 - 39261 Salifu Bawa', '5006 - Salifu Bawa', '5074 - 54002 Ahzmi Inc', '5074 - Ahzmi Inc', '5129 - 87128', '5129 - 98755 Mengisti Taxi', '5129 - Mengisti Taxi', '5724 - KYVI Cab Inc', '585 - Valley Cab Co', '5864 - 73614 Thomas Owusu', '5864 - Thomas Owusu', '5874 - 73628 Sergey Cab Corp.', '5997 - 65283 AW Services Inc.', '5997 - AW Services Inc.', '6488 - 83287 Zuha Taxi', '6743 - Luhak Corp', 'Blue Ribbon Taxi Association Inc.', 'C &amp; D Cab Co Inc', 'Chicago Elite Cab Corp.', 'Chicago Elite Cab Corp. (Chicago Carriag', 'Chicago Medallion Leasing INC', 'Chicago Medallion Management', 'Choice Taxi Association', 'Dispatch Taxi Affiliation', 'KOAM Taxi Association', 'Northwest Management LLC', 'Taxi Affiliation Services', 'Top Cab Affiliation'</td>\n",
       "    </tr>\n",
       "    <tr>\n",
       "      <th>'payment_type'</th>\n",
       "      <td>'Cash', 'Credit Card', 'Dispute', 'No Charge', 'Pcard', 'Unknown'</td>\n",
       "    </tr>\n",
       "  </tbody>\n",
       "</table>\n",
       "</div>"
      ],
      "text/plain": [
       "                                                                                                                                                                                                                                                                                                                                                                                                                                                                                                                                                                                                                                                                                                                                                                                                                                                                                                                                                                                                                                                                                                                                                                                                                                                                                                                                    Values\n",
       "Domain                                                                                                                                                                                                                                                                                                                                                                                                                                                                                                                                                                                                                                                                                                                                                                                                                                                                                                                                                                                                                                                                                                                                                                                                                                                                                                                                    \n",
       "'company'       '0118 - 42111 Godfrey S.Awir', '0694 - 59280 Chinesco Trans Inc', '1085 - 72312 N and W Cab Co', '2733 - 74600 Benny Jona', '2809 - 95474 C & D Cab Co Inc.', '3011 - 66308 JBL Cab Inc.', '3152 - 97284 Crystal Abernathy', '3201 - C&D Cab Co Inc', '3201 - CID Cab Co Inc', '3253 - 91138 Gaither Cab Co.', '3385 - 23210 Eman Cab', '3623 - 72222 Arrington Enterprises', '3897 - Ilie Malec', '4053 - Adwar H. Nikola', '4197 - 41842 Royal Star', '4615 - 83503 Tyrone Henderson', '4615 - Tyrone Henderson', '4623 - Jay Kim', '5006 - 39261 Salifu Bawa', '5006 - Salifu Bawa', '5074 - 54002 Ahzmi Inc', '5074 - Ahzmi Inc', '5129 - 87128', '5129 - 98755 Mengisti Taxi', '5129 - Mengisti Taxi', '5724 - KYVI Cab Inc', '585 - Valley Cab Co', '5864 - 73614 Thomas Owusu', '5864 - Thomas Owusu', '5874 - 73628 Sergey Cab Corp.', '5997 - 65283 AW Services Inc.', '5997 - AW Services Inc.', '6488 - 83287 Zuha Taxi', '6743 - Luhak Corp', 'Blue Ribbon Taxi Association Inc.', 'C & D Cab Co Inc', 'Chicago Elite Cab Corp.', 'Chicago Elite Cab Corp. (Chicago Carriag', 'Chicago Medallion Leasing INC', 'Chicago Medallion Management', 'Choice Taxi Association', 'Dispatch Taxi Affiliation', 'KOAM Taxi Association', 'Northwest Management LLC', 'Taxi Affiliation Services', 'Top Cab Affiliation'\n",
       "'payment_type'  'Cash', 'Credit Card', 'Dispute', 'No Charge', 'Pcard', 'Unknown'                                                                                                                                                                                                                                                                                                                                                                                                                                                                                                                                                                                                                                                                                                                                                                                                                                                                                                                                                                                                                                                                                                                                                                                                                                                         "
      ]
     },
     "metadata": {},
     "output_type": "display_data"
    }
   ],
   "source": [
    "# Infer a schema from the training data stats.\n",
    "schema = tfdv.infer_schema(statistics=train_stats, infer_feature_shape=False)\n",
    "tfdv.display_schema(schema=schema)"
   ]
  },
  {
   "cell_type": "markdown",
   "metadata": {
    "colab_type": "text",
    "id": "kzLwrYqEJWcD"
   },
   "source": [
    "## Check evaluation data for errors"
   ]
  },
  {
   "cell_type": "code",
   "execution_count": 7,
   "metadata": {
    "colab": {},
    "colab_type": "code",
    "id": "NVA5Bor4JaxL"
   },
   "outputs": [],
   "source": [
    "# Compute stats over eval data.\n",
    "eval_stats = tfdv.generate_statistics_from_csv(data_location=os.path.join(EVAL_DATA_DIR, 'data.csv'))"
   ]
  },
  {
   "cell_type": "code",
   "execution_count": 8,
   "metadata": {
    "colab": {},
    "colab_type": "code",
    "id": "NvxUKVMJJcSk"
   },
   "outputs": [
    {
     "data": {
      "text/html": [
       "<iframe id='facets-iframe' width=\"100%\" height=\"500px\"></iframe>\n",
       "        <script>\n",
       "        facets_iframe = document.getElementById('facets-iframe');\n",
       "        facets_html = '<link rel=\"import\" href=\"https://raw.githubusercontent.com/PAIR-code/facets/master/facets-dist/facets-jupyter.html\"><facets-overview proto-input=\"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\"></facets-overview>';\n",
       "        facets_iframe.contentWindow.document.write(facets_html);\n",
       "         facets_iframe.id = \"\";\n",
       "         setTimeout(() => {\n",
       "           facets_iframe.setAttribute('height', facets_iframe.contentWindow.document.body.offsetHeight + 'px')\n",
       "         }, 1500)\n",
       "         </script>"
      ],
      "text/plain": [
       "<IPython.core.display.HTML object>"
      ]
     },
     "metadata": {},
     "output_type": "display_data"
    }
   ],
   "source": [
    "# Compare stats of eval data with training data.\n",
    "tfdv.visualize_statistics(lhs_statistics=eval_stats, rhs_statistics=train_stats,\n",
    "                          lhs_name='EVAL_DATASET', rhs_name='TRAIN_DATASET')"
   ]
  },
  {
   "cell_type": "code",
   "execution_count": 9,
   "metadata": {
    "colab": {},
    "colab_type": "code",
    "id": "5QqFQ29tJhEi"
   },
   "outputs": [
    {
     "data": {
      "text/html": [
       "<div>\n",
       "<style scoped>\n",
       "    .dataframe tbody tr th:only-of-type {\n",
       "        vertical-align: middle;\n",
       "    }\n",
       "\n",
       "    .dataframe tbody tr th {\n",
       "        vertical-align: top;\n",
       "    }\n",
       "\n",
       "    .dataframe thead th {\n",
       "        text-align: right;\n",
       "    }\n",
       "</style>\n",
       "<table border=\"1\" class=\"dataframe\">\n",
       "  <thead>\n",
       "    <tr style=\"text-align: right;\">\n",
       "      <th></th>\n",
       "      <th>Anomaly short description</th>\n",
       "      <th>Anomaly long description</th>\n",
       "    </tr>\n",
       "    <tr>\n",
       "      <th>Feature name</th>\n",
       "      <th></th>\n",
       "      <th></th>\n",
       "    </tr>\n",
       "  </thead>\n",
       "  <tbody>\n",
       "    <tr>\n",
       "      <th>'payment_type'</th>\n",
       "      <td>Unexpected string values</td>\n",
       "      <td>Examples contain values missing from the schema: Prcard (&lt;1%).</td>\n",
       "    </tr>\n",
       "    <tr>\n",
       "      <th>'company'</th>\n",
       "      <td>Unexpected string values</td>\n",
       "      <td>Examples contain values missing from the schema: 2092 - 61288 Sbeih company (&lt;1%), 2192 - 73487 Zeymane Corp (&lt;1%), 2192 - Zeymane Corp (&lt;1%), 2823 - 73307 Seung Lee (&lt;1%), 3094 - 24059 G.L.B. Cab Co (&lt;1%), 3319 - CD Cab Co (&lt;1%), 3385 - Eman Cab (&lt;1%), 3897 - 57856 Ilie Malec (&lt;1%), 4053 - 40193 Adwar H. Nikola (&lt;1%), 4197 - Royal Star (&lt;1%), 585 - 88805 Valley Cab Co (&lt;1%), 5874 - Sergey Cab Corp. (&lt;1%), 6057 - 24657 Richard Addo (&lt;1%), 6574 - Babylon Express Inc. (&lt;1%), 6742 - 83735 Tasha ride inc (&lt;1%).</td>\n",
       "    </tr>\n",
       "  </tbody>\n",
       "</table>\n",
       "</div>"
      ],
      "text/plain": [
       "               Anomaly short description  \\\n",
       "Feature name                               \n",
       "'payment_type'  Unexpected string values   \n",
       "'company'       Unexpected string values   \n",
       "\n",
       "                                                                                                                                                                                                                                                                                                                                                                                                                                                                                                                         Anomaly long description  \n",
       "Feature name                                                                                                                                                                                                                                                                                                                                                                                                                                                                                                                                       \n",
       "'payment_type'  Examples contain values missing from the schema: Prcard (<1%).                                                                                                                                                                                                                                                                                                                                                                                                                                                                     \n",
       "'company'       Examples contain values missing from the schema: 2092 - 61288 Sbeih company (<1%), 2192 - 73487 Zeymane Corp (<1%), 2192 - Zeymane Corp (<1%), 2823 - 73307 Seung Lee (<1%), 3094 - 24059 G.L.B. Cab Co (<1%), 3319 - CD Cab Co (<1%), 3385 - Eman Cab (<1%), 3897 - 57856 Ilie Malec (<1%), 4053 - 40193 Adwar H. Nikola (<1%), 4197 - Royal Star (<1%), 585 - 88805 Valley Cab Co (<1%), 5874 - Sergey Cab Corp. (<1%), 6057 - 24657 Richard Addo (<1%), 6574 - Babylon Express Inc. (<1%), 6742 - 83735 Tasha ride inc (<1%).   "
      ]
     },
     "metadata": {},
     "output_type": "display_data"
    }
   ],
   "source": [
    "# Check eval data for errors by validating the eval data stats using the previously inferred schema.\n",
    "anomalies = tfdv.validate_statistics(statistics=eval_stats, schema=schema)\n",
    "tfdv.display_anomalies(anomalies)"
   ]
  },
  {
   "cell_type": "code",
   "execution_count": 10,
   "metadata": {
    "colab": {},
    "colab_type": "code",
    "id": "MZ_xsJgUJiGL"
   },
   "outputs": [
    {
     "data": {
      "text/html": [
       "<h4 style=\"color:green;\">No anomalies found.</h4>"
      ],
      "text/plain": [
       "<IPython.core.display.HTML object>"
      ]
     },
     "metadata": {},
     "output_type": "display_data"
    }
   ],
   "source": [
    "# Update the schema based on the observed anomalies.\n",
    "\n",
    "# Relax the minimum fraction of values that must come from the domain for feature company.\n",
    "company = tfdv.get_feature(schema, 'company')\n",
    "company.distribution_constraints.min_domain_mass = 0.9\n",
    "\n",
    "# Add new value to the domain of feature payment_type.\n",
    "payment_type_domain = tfdv.get_domain(schema, 'payment_type')\n",
    "payment_type_domain.value.append('Prcard')\n",
    "\n",
    "# Validate eval stats after updating the schema \n",
    "updated_anomalies = tfdv.validate_statistics(eval_stats, schema)\n",
    "tfdv.display_anomalies(updated_anomalies)"
   ]
  },
  {
   "cell_type": "markdown",
   "metadata": {
    "colab_type": "text",
    "id": "gR81RJidJlJT"
   },
   "source": [
    "## Freeze the schema\n",
    "\n",
    "Now that the schema has been reviewed and curated, we will store it in a file to reflect its \"frozen\" state."
   ]
  },
  {
   "cell_type": "code",
   "execution_count": 11,
   "metadata": {
    "colab": {},
    "colab_type": "code",
    "id": "MBC7_QnbJmar"
   },
   "outputs": [],
   "source": [
    "file_io.recursive_create_dir(OUTPUT_DIR)\n",
    "file_io.write_string_to_file(get_schema_file(), text_format.MessageToString(schema))"
   ]
  },
  {
   "cell_type": "markdown",
   "metadata": {
    "colab_type": "text",
    "id": "q1aDkWP3Jn9a"
   },
   "source": [
    "## Preprocess Inputs\n",
    "\n",
    "transform_data is defined in preprocess.py and uses the tensorflow_transform library to perform preprocessing. The same code is used for both local preprocessing in this notebook and preprocessing in the Cloud (via Dataflow)."
   ]
  },
  {
   "cell_type": "code",
   "execution_count": 12,
   "metadata": {
    "colab": {},
    "colab_type": "code",
    "id": "7i00wLcIJqEb"
   },
   "outputs": [
    {
     "name": "stderr",
     "output_type": "stream",
     "text": [
      "W0815 11:46:00.029551 140466153727808 deprecation_wrapper.py:119] From /home/two8g/tfx-source/tfx/examples/chicago_taxi/taxi/local/lib/python2.7/site-packages/tensorflow_transform/tf_metadata/schema_utils.py:313: The name tf.VarLenFeature is deprecated. Please use tf.io.VarLenFeature instead.\n",
      "\n",
      "W0815 11:46:00.180465 140466153727808 deprecation.py:323] From /home/two8g/tfx-source/tfx/examples/chicago_taxi/taxi/local/lib/python2.7/site-packages/tensorflow_transform/mappers.py:207: where (from tensorflow.python.ops.array_ops) is deprecated and will be removed in a future version.\n",
      "Instructions for updating:\n",
      "Use tf.where in 2.0, which has the same broadcast rule as np.where\n",
      "W0815 11:46:00.316210 140466153727808 deprecation.py:323] From /home/two8g/tfx-source/tfx/examples/chicago_taxi/taxi/local/lib/python2.7/site-packages/tensorflow_transform/mappers.py:1027: to_int64 (from tensorflow.python.ops.math_ops) is deprecated and will be removed in a future version.\n",
      "Instructions for updating:\n",
      "Use `tf.cast` instead.\n",
      "W0815 11:46:00.443238 140466153727808 deprecation_wrapper.py:119] From /home/two8g/tfx-source/tfx/examples/chicago_taxi/taxi/local/lib/python2.7/site-packages/tensorflow_transform/beam/impl.py:240: The name tf.gfile.MakeDirs is deprecated. Please use tf.io.gfile.makedirs instead.\n",
      "\n",
      "W0815 11:46:00.465581 140466153727808 deprecation_wrapper.py:119] From /home/two8g/tfx-source/tfx/examples/chicago_taxi/taxi/local/lib/python2.7/site-packages/tensorflow_transform/saved/saved_transform_io.py:378: The name tf.saved_model.signature_def_utils.predict_signature_def is deprecated. Please use tf.compat.v1.saved_model.signature_def_utils.predict_signature_def instead.\n",
      "\n",
      "W0815 11:46:00.467092 140466153727808 deprecation.py:323] From /home/two8g/tfx-source/tfx/examples/chicago_taxi/taxi/local/lib/python2.7/site-packages/tensorflow/python/saved_model/signature_def_utils_impl.py:201: build_tensor_info (from tensorflow.python.saved_model.utils_impl) is deprecated and will be removed in a future version.\n",
      "Instructions for updating:\n",
      "This function will only be available through the v1 compatibility library as tf.compat.v1.saved_model.utils.build_tensor_info or tf.compat.v1.saved_model.build_tensor_info.\n",
      "W0815 11:46:00.473289 140466153727808 deprecation_wrapper.py:119] From /home/two8g/tfx-source/tfx/examples/chicago_taxi/taxi/local/lib/python2.7/site-packages/tensorflow_transform/saved/saved_transform_io.py:380: The name tf.saved_model.builder.SavedModelBuilder is deprecated. Please use tf.compat.v1.saved_model.builder.SavedModelBuilder instead.\n",
      "\n",
      "W0815 11:46:07.868326 140466153727808 deprecation_wrapper.py:119] From /home/two8g/tfx-source/tfx/examples/chicago_taxi/taxi/local/lib/python2.7/site-packages/tensorflow_transform/saved/saved_transform_io.py:230: The name tf.saved_model.constants.ASSETS_KEY is deprecated. Please use tf.saved_model.ASSETS_KEY instead.\n",
      "\n",
      "W0815 11:46:11.424845 140466153727808 deprecation_wrapper.py:119] From /home/two8g/tfx-source/tfx/examples/chicago_taxi/taxi/local/lib/python2.7/site-packages/tensorflow_transform/beam/tft_beam_io/transform_fn_io.py:39: The name tf.gfile.IsDirectory is deprecated. Please use tf.io.gfile.isdir instead.\n",
      "\n",
      "W0815 11:46:11.533215 140466153727808 ops.py:6619] Expected binary or unicode string, got type_url: \"type.googleapis.com/tensorflow.AssetFileDef\"\n",
      "value: \"\\n\\013\\n\\tConst_6:0\\022/vocab_compute_and_apply_vocabulary_1_vocabulary\"\n",
      "\n",
      "W0815 11:46:11.534895 140466153727808 ops.py:6619] Expected binary or unicode string, got type_url: \"type.googleapis.com/tensorflow.AssetFileDef\"\n",
      "value: \"\\n\\014\\n\\nConst_11:0\\022-vocab_compute_and_apply_vocabulary_vocabulary\"\n",
      "\n",
      "W0815 11:46:11.845485 140466153727808 ops.py:6619] Expected binary or unicode string, got type_url: \"type.googleapis.com/tensorflow.AssetFileDef\"\n",
      "value: \"\\n\\013\\n\\tConst_6:0\\022/vocab_compute_and_apply_vocabulary_1_vocabulary\"\n",
      "\n",
      "W0815 11:46:11.847423 140466153727808 ops.py:6619] Expected binary or unicode string, got type_url: \"type.googleapis.com/tensorflow.AssetFileDef\"\n",
      "value: \"\\n\\014\\n\\nConst_11:0\\022-vocab_compute_and_apply_vocabulary_vocabulary\"\n",
      "\n"
     ]
    },
    {
     "name": "stdout",
     "output_type": "stream",
     "text": [
      "Done\n"
     ]
    }
   ],
   "source": [
    "# Transform eval data\n",
    "preprocess.transform_data(input_handle=os.path.join(EVAL_DATA_DIR, 'data.csv'),\n",
    "                          outfile_prefix=TFT_EVAL_FILE_PREFIX, \n",
    "                          working_dir=get_tft_eval_output_dir(0),\n",
    "                          schema_file=get_schema_file(),\n",
    "                          pipeline_args=['--runner=DirectRunner'])\n",
    "print('Done')"
   ]
  },
  {
   "cell_type": "code",
   "execution_count": 13,
   "metadata": {
    "colab": {},
    "colab_type": "code",
    "id": "8Onber05Jr46"
   },
   "outputs": [
    {
     "name": "stderr",
     "output_type": "stream",
     "text": [
      "W0815 11:46:24.480324 140466153727808 ops.py:6619] Expected binary or unicode string, got type_url: \"type.googleapis.com/tensorflow.AssetFileDef\"\n",
      "value: \"\\n\\013\\n\\tConst_5:0\\022/vocab_compute_and_apply_vocabulary_1_vocabulary\"\n",
      "\n",
      "W0815 11:46:24.482678 140466153727808 ops.py:6619] Expected binary or unicode string, got type_url: \"type.googleapis.com/tensorflow.AssetFileDef\"\n",
      "value: \"\\n\\014\\n\\nConst_10:0\\022-vocab_compute_and_apply_vocabulary_vocabulary\"\n",
      "\n",
      "W0815 11:46:25.085391 140466153727808 ops.py:6619] Expected binary or unicode string, got type_url: \"type.googleapis.com/tensorflow.AssetFileDef\"\n",
      "value: \"\\n\\013\\n\\tConst_5:0\\022/vocab_compute_and_apply_vocabulary_1_vocabulary\"\n",
      "\n",
      "W0815 11:46:25.086986 140466153727808 ops.py:6619] Expected binary or unicode string, got type_url: \"type.googleapis.com/tensorflow.AssetFileDef\"\n",
      "value: \"\\n\\014\\n\\nConst_10:0\\022-vocab_compute_and_apply_vocabulary_vocabulary\"\n",
      "\n"
     ]
    },
    {
     "name": "stdout",
     "output_type": "stream",
     "text": [
      "Done\n"
     ]
    }
   ],
   "source": [
    "# Transform training data\n",
    "preprocess.transform_data(input_handle=os.path.join(TRAIN_DATA_DIR, 'data.csv'),\n",
    "                          outfile_prefix=TFT_TRAIN_FILE_PREFIX, \n",
    "                          working_dir=get_tft_train_output_dir(0),\n",
    "                          schema_file=get_schema_file(),\n",
    "                          pipeline_args=['--runner=DirectRunner'])\n",
    "print('Done')"
   ]
  },
  {
   "cell_type": "markdown",
   "metadata": {
    "colab_type": "text",
    "id": "0LUjgM3AJtwj"
   },
   "source": [
    "## Compute statistics over transformed data "
   ]
  },
  {
   "cell_type": "code",
   "execution_count": 14,
   "metadata": {
    "colab": {},
    "colab_type": "code",
    "id": "Kzks-t0sJxOL"
   },
   "outputs": [],
   "source": [
    "# Compute stats over transformed training data.\n",
    "TRANSFORMED_TRAIN_DATA = os.path.join(get_tft_train_output_dir(0), TFT_TRAIN_FILE_PREFIX + \"*\") \n",
    "transformed_train_stats = tfdv.generate_statistics_from_tfrecord(data_location=TRANSFORMED_TRAIN_DATA)"
   ]
  },
  {
   "cell_type": "code",
   "execution_count": 15,
   "metadata": {
    "colab": {},
    "colab_type": "code",
    "id": "w83Kd3fXJyga"
   },
   "outputs": [
    {
     "data": {
      "text/html": [
       "<iframe id='facets-iframe' width=\"100%\" height=\"500px\"></iframe>\n",
       "        <script>\n",
       "        facets_iframe = document.getElementById('facets-iframe');\n",
       "        facets_html = '<link rel=\"import\" href=\"https://raw.githubusercontent.com/PAIR-code/facets/master/facets-dist/facets-jupyter.html\"><facets-overview proto-input=\"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\"></facets-overview>';\n",
       "        facets_iframe.contentWindow.document.write(facets_html);\n",
       "         facets_iframe.id = \"\";\n",
       "         setTimeout(() => {\n",
       "           facets_iframe.setAttribute('height', facets_iframe.contentWindow.document.body.offsetHeight + 'px')\n",
       "         }, 1500)\n",
       "         </script>"
      ],
      "text/plain": [
       "<IPython.core.display.HTML object>"
      ]
     },
     "metadata": {},
     "output_type": "display_data"
    }
   ],
   "source": [
    "# Visualize transformed training data stats and compare to raw training data. \n",
    "# Use 'Feature search' to focus on a feature and see statistics pre- and post-transformation.\n",
    "tfdv.visualize_statistics(transformed_train_stats, train_stats, lhs_name='TRANSFORMED', rhs_name='RAW')"
   ]
  },
  {
   "cell_type": "markdown",
   "metadata": {
    "colab_type": "text",
    "id": "j-SN2NaKJ1Wq"
   },
   "source": [
    "## Prepare the Model\n",
    "\n",
    "To use TFMA, export the model into an **EvalSavedModel** by calling ``tfma.export.export_eval_savedmodel``.\n",
    "\n",
    "``tfma.export.export_eval_savedmodel`` is analogous to ``estimator.export_savedmodel`` but exports the evaluation graph as opposed to the training or inference graph. Notice that one of the inputs is ``eval_input_receiver_fn`` which is analogous to ``serving_input_receiver_fn`` for ``estimator.export_savedmodel``. For more details, refer to the documentation for TFMA on Github.\n",
    "\n",
    "Contruct the **EvalSavedModel** after training is completed."
   ]
  },
  {
   "cell_type": "code",
   "execution_count": 16,
   "metadata": {
    "colab": {},
    "colab_type": "code",
    "id": "a35ueyufJ2bj"
   },
   "outputs": [
    {
     "name": "stdout",
     "output_type": "stream",
     "text": [
      "Done\n"
     ]
    }
   ],
   "source": [
    "def run_experiment(hparams):\n",
    "    \"\"\"Run the training and evaluate using the high level API\"\"\"\n",
    "\n",
    "    # Train and evaluate the model as usual.\n",
    "    estimator = task.train_and_maybe_evaluate(hparams)\n",
    "\n",
    "    # Export TFMA's sepcial EvalSavedModel\n",
    "    eval_model_dir = os.path.join(hparams.output_dir, EVAL_MODEL_DIR)\n",
    "    receiver_fn = lambda: eval_input_receiver_fn(hparams.tf_transform_dir)\n",
    "\n",
    "    tfma.export.export_eval_savedmodel(\n",
    "        estimator=estimator,\n",
    "        export_dir_base=eval_model_dir,\n",
    "        eval_input_receiver_fn=receiver_fn)\n",
    "    \n",
    "def eval_input_receiver_fn(working_dir):\n",
    "    # Extract feature spec from the schema.\n",
    "    raw_feature_spec = schema_utils.schema_as_feature_spec(schema).feature_spec\n",
    "\n",
    "    serialized_tf_example = tf.placeholder(\n",
    "        dtype=tf.string, shape=[None], name='input_example_tensor')\n",
    "\n",
    "    # First we deserialize our examples using the raw schema.\n",
    "    features = tf.parse_example(serialized_tf_example, raw_feature_spec)\n",
    "\n",
    "    # Now that we have our raw examples, we must process them through tft\n",
    "    _, transformed_features = (\n",
    "        saved_transform_io.partially_apply_saved_transform(\n",
    "            os.path.join(working_dir, transform_fn_io.TRANSFORM_FN_DIR),\n",
    "            features))\n",
    "\n",
    "    # The key MUST be 'examples'.\n",
    "    receiver_tensors = {'examples': serialized_tf_example}\n",
    "    \n",
    "    # NOTE: Model is driven by transformed features (since training works on the\n",
    "    # materialized output of TFT, but slicing will happen on raw features.\n",
    "    features.update(transformed_features)\n",
    "    \n",
    "    return tfma.export.EvalInputReceiver(\n",
    "        features=features,\n",
    "        receiver_tensors=receiver_tensors,\n",
    "        labels=transformed_features[taxi.transformed_name(taxi.LABEL_KEY)])\n",
    "\n",
    "print('Done')"
   ]
  },
  {
   "cell_type": "markdown",
   "metadata": {
    "colab_type": "text",
    "id": "wZV47rcxJ6aC"
   },
   "source": [
    "## Train and export the model for TFMA"
   ]
  },
  {
   "cell_type": "code",
   "execution_count": 17,
   "metadata": {
    "colab": {},
    "colab_type": "code",
    "id": "wXlW87u8J8vb"
   },
   "outputs": [
    {
     "name": "stdout",
     "output_type": "stream",
     "text": [
      "Done\n"
     ]
    }
   ],
   "source": [
    "def run_local_experiment(tft_run_id, tf_run_id, num_layers, first_layer_size, scale_factor):\n",
    "    \"\"\"Helper method to train and export the model for TFMA\n",
    "    \n",
    "    The caller specifies the input and output directory by providing run ids. The optional parameters\n",
    "    allows the user to change the modelfor time series view.\n",
    "    \n",
    "    Args:\n",
    "      tft_run_id: The run id for the preprocessing. Identifies the folder containing training data.\n",
    "      tf_run_id: The run for this training run. Identify where the exported model will be written to.\n",
    "      num_layers: The number of layers used by the hiden layer.\n",
    "      first_layer_size: The size of the first hidden layer.\n",
    "      scale_factor: The scale factor between each layer in in hidden layers.\n",
    "    \"\"\"\n",
    "    hparams = tf.contrib.training.HParams(\n",
    "        # Inputs: are tf-transformed materialized features\n",
    "        train_files=os.path.join(get_tft_train_output_dir(tft_run_id), TFT_TRAIN_FILE_PREFIX + '-00000-of-*'),\n",
    "        eval_files=os.path.join(get_tft_eval_output_dir(tft_run_id), TFT_EVAL_FILE_PREFIX + '-00000-of-*'),\n",
    "        schema_file=get_schema_file(),\n",
    "        # Output: dir for trained model\n",
    "        job_dir=get_tf_output_dir(tf_run_id),\n",
    "        tf_transform_dir=get_tft_train_output_dir(tft_run_id),\n",
    "        \n",
    "        # Output: dir for both the serving model and eval_model which will go into tfma\n",
    "        # evaluation\n",
    "        output_dir=get_tf_output_dir(tf_run_id),\n",
    "        train_steps=10000,\n",
    "        eval_steps=5000,\n",
    "        num_layers=num_layers,\n",
    "        first_layer_size=first_layer_size,\n",
    "        scale_factor=scale_factor,\n",
    "        num_epochs=None,\n",
    "        train_batch_size=40,\n",
    "        eval_batch_size=40)\n",
    "\n",
    "    run_experiment(hparams)\n",
    "\n",
    "print('Done')"
   ]
  },
  {
   "cell_type": "code",
   "execution_count": 18,
   "metadata": {
    "colab": {},
    "colab_type": "code",
    "id": "LVqhulOSKAly"
   },
   "outputs": [
    {
     "name": "stderr",
     "output_type": "stream",
     "text": [
      "W0815 11:46:36.821898 140466153727808 deprecation.py:323] From /home/two8g/tfx-source/tfx/examples/chicago_taxi/taxi/local/lib/python2.7/site-packages/tensorflow/python/training/training_util.py:236: initialized_value (from tensorflow.python.ops.variables) is deprecated and will be removed in a future version.\n",
      "Instructions for updating:\n",
      "Use Variable.read_value. Variables in 2.X are initialized automatically both in eager and graph (inside tf.defun) contexts.\n",
      "W0815 11:46:36.836735 140466153727808 deprecation.py:323] From trainer/model.py:175: read_batch_features (from tensorflow.contrib.learn.python.learn.learn_io.graph_io) is deprecated and will be removed in a future version.\n",
      "Instructions for updating:\n",
      "Use tf.data.\n",
      "W0815 11:46:36.838212 140466153727808 deprecation.py:323] From /home/two8g/tfx-source/tfx/examples/chicago_taxi/taxi/local/lib/python2.7/site-packages/tensorflow/contrib/learn/python/learn/learn_io/graph_io.py:833: read_keyed_batch_features (from tensorflow.contrib.learn.python.learn.learn_io.graph_io) is deprecated and will be removed in a future version.\n",
      "Instructions for updating:\n",
      "Use tf.data.\n",
      "W0815 11:46:36.839580 140466153727808 deprecation.py:323] From /home/two8g/tfx-source/tfx/examples/chicago_taxi/taxi/local/lib/python2.7/site-packages/tensorflow/contrib/learn/python/learn/learn_io/graph_io.py:542: read_keyed_batch_examples (from tensorflow.contrib.learn.python.learn.learn_io.graph_io) is deprecated and will be removed in a future version.\n",
      "Instructions for updating:\n",
      "Use tf.data.\n",
      "W0815 11:46:36.845273 140466153727808 deprecation.py:323] From /home/two8g/tfx-source/tfx/examples/chicago_taxi/taxi/local/lib/python2.7/site-packages/tensorflow/contrib/learn/python/learn/learn_io/graph_io.py:423: string_input_producer (from tensorflow.python.training.input) is deprecated and will be removed in a future version.\n",
      "Instructions for updating:\n",
      "Queue-based input pipelines have been replaced by `tf.data`. Use `tf.data.Dataset.from_tensor_slices(string_tensor).shuffle(tf.shape(input_tensor, out_type=tf.int64)[0]).repeat(num_epochs)`. If `shuffle=False`, omit the `.shuffle(...)`.\n",
      "W0815 11:46:36.852896 140466153727808 deprecation.py:323] From /home/two8g/tfx-source/tfx/examples/chicago_taxi/taxi/local/lib/python2.7/site-packages/tensorflow/python/training/input.py:278: input_producer (from tensorflow.python.training.input) is deprecated and will be removed in a future version.\n",
      "Instructions for updating:\n",
      "Queue-based input pipelines have been replaced by `tf.data`. Use `tf.data.Dataset.from_tensor_slices(input_tensor).shuffle(tf.shape(input_tensor, out_type=tf.int64)[0]).repeat(num_epochs)`. If `shuffle=False`, omit the `.shuffle(...)`.\n",
      "W0815 11:46:36.855648 140466153727808 deprecation.py:323] From /home/two8g/tfx-source/tfx/examples/chicago_taxi/taxi/local/lib/python2.7/site-packages/tensorflow/python/training/input.py:190: limit_epochs (from tensorflow.python.training.input) is deprecated and will be removed in a future version.\n",
      "Instructions for updating:\n",
      "Queue-based input pipelines have been replaced by `tf.data`. Use `tf.data.Dataset.from_tensors(tensor).repeat(num_epochs)`.\n",
      "W0815 11:46:36.859430 140466153727808 deprecation.py:323] From /home/two8g/tfx-source/tfx/examples/chicago_taxi/taxi/local/lib/python2.7/site-packages/tensorflow/python/training/input.py:199: __init__ (from tensorflow.python.training.queue_runner_impl) is deprecated and will be removed in a future version.\n",
      "Instructions for updating:\n",
      "To construct input pipelines, use the `tf.data` module.\n",
      "W0815 11:46:36.862942 140466153727808 deprecation.py:323] From /home/two8g/tfx-source/tfx/examples/chicago_taxi/taxi/local/lib/python2.7/site-packages/tensorflow/python/training/input.py:199: add_queue_runner (from tensorflow.python.training.queue_runner_impl) is deprecated and will be removed in a future version.\n",
      "Instructions for updating:\n",
      "To construct input pipelines, use the `tf.data` module.\n",
      "W0815 11:46:36.880482 140466153727808 deprecation_wrapper.py:119] From trainer/model.py:152: The name tf.python_io.TFRecordOptions is deprecated. Please use tf.io.TFRecordOptions instead.\n",
      "\n",
      "W0815 11:46:36.884706 140466153727808 deprecation_wrapper.py:119] From trainer/model.py:153: The name tf.python_io.TFRecordCompressionType is deprecated. Please use tf.compat.v1.python_io.TFRecordCompressionType instead.\n",
      "\n",
      "W0815 11:46:36.887058 140466153727808 deprecation.py:323] From trainer/model.py:153: __init__ (from tensorflow.python.ops.io_ops) is deprecated and will be removed in a future version.\n",
      "Instructions for updating:\n",
      "Queue-based input pipelines have been replaced by `tf.data`. Use `tf.data.TFRecordDataset`.\n",
      "W0815 11:46:36.892345 140466153727808 deprecation.py:323] From /home/two8g/tfx-source/tfx/examples/chicago_taxi/taxi/local/lib/python2.7/site-packages/tensorflow/contrib/learn/python/learn/learn_io/graph_io.py:449: shuffle_batch_join (from tensorflow.python.training.input) is deprecated and will be removed in a future version.\n",
      "Instructions for updating:\n",
      "Queue-based input pipelines have been replaced by `tf.data`. Use `tf.data.Dataset.interleave(...).shuffle(min_after_dequeue).batch(batch_size)`.\n",
      "W0815 11:46:36.945173 140466153727808 deprecation.py:323] From /home/two8g/tfx-source/tfx/examples/chicago_taxi/taxi/local/lib/python2.7/site-packages/tensorflow/contrib/learn/python/learn/learn_io/graph_io.py:550: queue_parsed_features (from tensorflow.contrib.learn.python.learn.learn_io.graph_io) is deprecated and will be removed in a future version.\n",
      "Instructions for updating:\n",
      "Use tf.data.\n",
      "W0815 11:46:36.970144 140466153727808 deprecation.py:506] From /home/two8g/tfx-source/tfx/examples/chicago_taxi/taxi/local/lib/python2.7/site-packages/tensorflow/python/ops/init_ops.py:1251: calling __init__ (from tensorflow.python.ops.init_ops) with dtype is deprecated and will be removed in a future version.\n",
      "Instructions for updating:\n",
      "Call initializer instance with the dtype argument instead of passing it to the constructor\n",
      "W0815 11:46:39.425403 140466153727808 deprecation.py:323] From /home/two8g/tfx-source/tfx/examples/chicago_taxi/taxi/local/lib/python2.7/site-packages/tensorflow_estimator/python/estimator/canned/linear.py:308: to_float (from tensorflow.python.ops.math_ops) is deprecated and will be removed in a future version.\n",
      "Instructions for updating:\n",
      "Use `tf.cast` instead.\n",
      "W0815 11:46:39.757565 140466153727808 deprecation.py:506] From /home/two8g/tfx-source/tfx/examples/chicago_taxi/taxi/local/lib/python2.7/site-packages/tensorflow/python/training/adagrad.py:76: calling __init__ (from tensorflow.python.ops.init_ops) with dtype is deprecated and will be removed in a future version.\n",
      "Instructions for updating:\n",
      "Call initializer instance with the dtype argument instead of passing it to the constructor\n",
      "W0815 11:46:41.522058 140466153727808 deprecation.py:323] From /home/two8g/tfx-source/tfx/examples/chicago_taxi/taxi/local/lib/python2.7/site-packages/tensorflow/python/training/monitored_session.py:875: start_queue_runners (from tensorflow.python.training.queue_runner_impl) is deprecated and will be removed in a future version.\n",
      "Instructions for updating:\n",
      "To construct input pipelines, use the `tf.data` module.\n",
      "W0815 11:46:47.838089 140466153727808 basic_session_run_hooks.py:724] It seems that global step (tf.train.get_global_step) has not been increased. Current value (could be stable): 6 vs previous value: 6. You could increase the global step by passing tf.train.get_global_step() to Optimizer.apply_gradients or Optimizer.minimize.\n",
      "W0815 11:46:47.875896 140466153727808 basic_session_run_hooks.py:724] It seems that global step (tf.train.get_global_step) has not been increased. Current value (could be stable): 11 vs previous value: 11. You could increase the global step by passing tf.train.get_global_step() to Optimizer.apply_gradients or Optimizer.minimize.\n",
      "W0815 11:46:48.503257 140466153727808 basic_session_run_hooks.py:724] It seems that global step (tf.train.get_global_step) has not been increased. Current value (could be stable): 294 vs previous value: 294. You could increase the global step by passing tf.train.get_global_step() to Optimizer.apply_gradients or Optimizer.minimize.\n",
      "W0815 11:46:48.800805 140466153727808 basic_session_run_hooks.py:724] It seems that global step (tf.train.get_global_step) has not been increased. Current value (could be stable): 446 vs previous value: 446. You could increase the global step by passing tf.train.get_global_step() to Optimizer.apply_gradients or Optimizer.minimize.\n"
     ]
    },
    {
     "name": "stderr",
     "output_type": "stream",
     "text": [
      "W0815 11:46:48.966317 140466153727808 basic_session_run_hooks.py:724] It seems that global step (tf.train.get_global_step) has not been increased. Current value (could be stable): 525 vs previous value: 525. You could increase the global step by passing tf.train.get_global_step() to Optimizer.apply_gradients or Optimizer.minimize.\n",
      "W0815 11:46:49.960782 140466153727808 deprecation.py:323] From /home/two8g/tfx-source/tfx/examples/chicago_taxi/taxi/local/lib/python2.7/site-packages/tensorflow/python/training/saver.py:960: remove_checkpoint (from tensorflow.python.training.checkpoint_management) is deprecated and will be removed in a future version.\n",
      "Instructions for updating:\n",
      "Use standard file APIs to delete files with this prefix.\n",
      "W0815 11:46:51.562455 140466153727808 deprecation.py:323] From /home/two8g/tfx-source/tfx/examples/chicago_taxi/taxi/local/lib/python2.7/site-packages/tensorflow/python/ops/metrics_impl.py:2027: div (from tensorflow.python.ops.math_ops) is deprecated and will be removed in a future version.\n",
      "Instructions for updating:\n",
      "Deprecated in favor of operator or tf.math.divide.\n",
      "W0815 11:46:51.833235 140466153727808 metrics_impl.py:804] Trapezoidal rule is known to produce incorrect PR-AUCs; please switch to \"careful_interpolation\" instead.\n",
      "W0815 11:46:51.850157 140466153727808 metrics_impl.py:804] Trapezoidal rule is known to produce incorrect PR-AUCs; please switch to \"careful_interpolation\" instead.\n",
      "W0815 11:46:52.371572 140466153727808 deprecation.py:323] From /home/two8g/tfx-source/tfx/examples/chicago_taxi/taxi/local/lib/python2.7/site-packages/tensorflow/python/training/saver.py:1276: checkpoint_exists (from tensorflow.python.training.checkpoint_management) is deprecated and will be removed in a future version.\n",
      "Instructions for updating:\n",
      "Use standard file APIs to check for files with this prefix.\n",
      "W0815 11:47:30.502120 140466153727808 metrics_impl.py:804] Trapezoidal rule is known to produce incorrect PR-AUCs; please switch to \"careful_interpolation\" instead.\n",
      "W0815 11:47:30.532886 140466153727808 metrics_impl.py:804] Trapezoidal rule is known to produce incorrect PR-AUCs; please switch to \"careful_interpolation\" instead.\n",
      "W0815 11:47:39.911164 140466153727808 deprecation_wrapper.py:119] From /home/two8g/tfx-source/tfx/examples/chicago_taxi/taxi/local/lib/python2.7/site-packages/tensorflow_transform/saved/saved_transform_io.py:322: The name tf.logging.warn is deprecated. Please use tf.compat.v1.logging.warn instead.\n",
      "\n",
      "W0815 11:47:39.919421 140466153727808 saved_transform_io.py:323] partially_apply_saved_transform is deprecated.  Use the transform_raw_features method of the TFTrandformOutput class instead.\n",
      "W0815 11:47:40.302031 140466153727808 ops.py:6619] Expected binary or unicode string, got type_url: \"type.googleapis.com/tensorflow.AssetFileDef\"\n",
      "value: \"\\n\\013\\n\\tConst_5:0\\022/vocab_compute_and_apply_vocabulary_1_vocabulary\"\n",
      "\n",
      "W0815 11:47:40.307821 140466153727808 ops.py:6619] Expected binary or unicode string, got type_url: \"type.googleapis.com/tensorflow.AssetFileDef\"\n",
      "value: \"\\n\\014\\n\\nConst_10:0\\022-vocab_compute_and_apply_vocabulary_vocabulary\"\n",
      "\n",
      "W0815 11:47:43.601536 140466153727808 deprecation.py:323] From /home/two8g/tfx-source/tfx/examples/chicago_taxi/taxi/local/lib/python2.7/site-packages/tensorflow_model_analysis/eval_saved_model/export.py:474: export_all_saved_models (from tensorflow_estimator.contrib.estimator.python.estimator.export) is deprecated and will be removed after 2018-12-03.\n",
      "Instructions for updating:\n",
      "Use estimator.experimental_export_all_saved_models\n",
      "W0815 11:47:43.672631 140466153727808 saved_transform_io.py:323] partially_apply_saved_transform is deprecated.  Use the transform_raw_features method of the TFTrandformOutput class instead.\n",
      "W0815 11:47:43.752696 140466153727808 ops.py:6619] Expected binary or unicode string, got type_url: \"type.googleapis.com/tensorflow.AssetFileDef\"\n",
      "value: \"\\n\\013\\n\\tConst_5:0\\022/vocab_compute_and_apply_vocabulary_1_vocabulary\"\n",
      "\n",
      "W0815 11:47:43.754420 140466153727808 ops.py:6619] Expected binary or unicode string, got type_url: \"type.googleapis.com/tensorflow.AssetFileDef\"\n",
      "value: \"\\n\\014\\n\\nConst_10:0\\022-vocab_compute_and_apply_vocabulary_vocabulary\"\n",
      "\n",
      "W0815 11:47:46.203751 140466153727808 metrics_impl.py:804] Trapezoidal rule is known to produce incorrect PR-AUCs; please switch to \"careful_interpolation\" instead.\n",
      "W0815 11:47:46.223129 140466153727808 metrics_impl.py:804] Trapezoidal rule is known to produce incorrect PR-AUCs; please switch to \"careful_interpolation\" instead.\n",
      "W0815 11:47:46.248157 140466153727808 export_utils.py:182] Export includes no default signature!\n"
     ]
    },
    {
     "name": "stdout",
     "output_type": "stream",
     "text": [
      "Done\n"
     ]
    }
   ],
   "source": [
    "run_local_experiment(tft_run_id=0,\n",
    "                     tf_run_id=0,\n",
    "                     num_layers=4,\n",
    "                     first_layer_size=100,\n",
    "                     scale_factor=0.7)\n",
    "print('Done')"
   ]
  },
  {
   "cell_type": "markdown",
   "metadata": {
    "colab_type": "text",
    "id": "8Y6sRSPZKCjs"
   },
   "source": [
    "## Run TFMA to compute metrics\n",
    "For local analysis, TFMA offers a helper method ``tfma.run_model_analysis``"
   ]
  },
  {
   "cell_type": "code",
   "execution_count": 19,
   "metadata": {
    "colab": {},
    "colab_type": "code",
    "id": "ZB7n3o1YKErx"
   },
   "outputs": [
    {
     "name": "stdout",
     "output_type": "stream",
     "text": [
      "Help on function run_model_analysis in module tensorflow_model_analysis.api.model_eval_lib:\n",
      "\n",
      "run_model_analysis(eval_shared_model, data_location, file_format='tfrecords', slice_spec=None, output_path=None, extractors=None, evaluators=None, writers=None, write_config=True, pipeline_options=None, num_bootstrap_samples=1)\n",
      "    Runs TensorFlow model analysis.\n",
      "    \n",
      "    It runs a Beam pipeline to compute the slicing metrics exported in TensorFlow\n",
      "    Eval SavedModel and returns the results.\n",
      "    \n",
      "    This is a simplified API for users who want to quickly get something running\n",
      "    locally. Users who wish to create their own Beam pipelines can use the\n",
      "    Evaluate PTransform instead.\n",
      "    \n",
      "    Args:\n",
      "      eval_shared_model: Shared model parameters for EvalSavedModel including any\n",
      "        additional metrics (see EvalSharedModel for more information on how to\n",
      "        configure additional metrics).\n",
      "      data_location: The location of the data files.\n",
      "      file_format: The file format of the data, can be either 'text' or\n",
      "        'tfrecords' for now. By default, 'tfrecords' will be used.\n",
      "      slice_spec: A list of tfma.slicer.SingleSliceSpec. Each spec represents a\n",
      "        way to slice the data. If None, defaults to the overall slice.\n",
      "        Example usages:\n",
      "        # TODO(xinzha): add more use cases once they are supported in frontend.\n",
      "        - tfma.SingleSiceSpec(): no slice, metrics are computed on overall data.\n",
      "        - tfma.SingleSiceSpec(columns=['country']): slice based on features in\n",
      "          column \"country\". We might get metrics for slice \"country:us\",\n",
      "          \"country:jp\", and etc in results.\n",
      "        - tfma.SingleSiceSpec(features=[('country', 'us')]): metrics are computed\n",
      "          on slice \"country:us\".\n",
      "      output_path: The directory to output metrics and results to. If None, we use\n",
      "        a temporary directory.\n",
      "      extractors: Optional list of Extractors to apply to Extracts. Typically\n",
      "        these will be added by calling the default_extractors function. If no\n",
      "        extractors are provided, default_extractors (non-materialized) will be\n",
      "        used.\n",
      "      evaluators: Optional list of Evaluators for evaluating Extracts. Typically\n",
      "        these will be added by calling the default_evaluators function. If no\n",
      "        evaluators are provided, default_evaluators will be used.\n",
      "      writers: Optional list of Writers for writing Evaluation output. Typically\n",
      "        these will be added by calling the default_writers function. If no writers\n",
      "        are provided, default_writers will be used.\n",
      "      write_config: True to write the config along with the results.\n",
      "      pipeline_options: Optional arguments to run the Pipeline, for instance\n",
      "        whether to run directly.\n",
      "      num_bootstrap_samples: Optional, set to at least 20 in order to calculate\n",
      "        metrics with confidence intervals.\n",
      "    \n",
      "    Returns:\n",
      "      An EvalResult that can be used with the TFMA visualization functions.\n",
      "    \n",
      "    Raises:\n",
      "      ValueError: If the file_format is unknown to us.\n",
      "\n"
     ]
    }
   ],
   "source": [
    "help(tfma.run_model_analysis)"
   ]
  },
  {
   "cell_type": "markdown",
   "metadata": {
    "colab_type": "text",
    "id": "uOKlvwTLKH8T"
   },
   "source": [
    "#### You can also write your own custom pipeline if you want to perform extra transformations on the data before evaluation."
   ]
  },
  {
   "cell_type": "code",
   "execution_count": 20,
   "metadata": {
    "colab": {},
    "colab_type": "code",
    "id": "ZKCj7orAKKpq"
   },
   "outputs": [
    {
     "name": "stdout",
     "output_type": "stream",
     "text": [
      "Done\n"
     ]
    }
   ],
   "source": [
    "def run_tfma(slice_spec, tf_run_id, tfma_run_id, input_csv, schema_file, add_metrics_callbacks=None):\n",
    "    \"\"\"A simple wrapper function that runs tfma locally.\n",
    "    \n",
    "    A function that does extra transformations on the data and then run model analysis.\n",
    "    \n",
    "    Args:\n",
    "        slice_spec: The slicing spec for how to slice the data.\n",
    "        tf_run_id: An id to contruct the model directories with.\n",
    "        tfma_run_id: An id to construct output directories with.\n",
    "        input_csv: The evaluation data in csv format.\n",
    "        schema_file: The file holding a text-serialized schema for the input data.\n",
    "        add_metrics_callback: Optional list of callbacks for computing extra metrics.\n",
    "        \n",
    "    Returns:\n",
    "        An EvalResult that can be used with TFMA visualization functions.\n",
    "    \"\"\"\n",
    "    eval_model_base_dir = os.path.join(get_tf_output_dir(tf_run_id), EVAL_MODEL_DIR)\n",
    "    eval_model_dir = os.path.join(eval_model_base_dir, next(os.walk(eval_model_base_dir))[1][0])\n",
    "    eval_shared_model = tfma.default_eval_shared_model(\n",
    "        eval_saved_model_path=eval_model_dir,\n",
    "        add_metrics_callbacks=add_metrics_callbacks)\n",
    "    schema = taxi.read_schema(schema_file)\n",
    "    \n",
    "    print(eval_model_dir)\n",
    "    \n",
    "    display_only_data_location = input_csv\n",
    "    \n",
    "    with beam.Pipeline() as pipeline:\n",
    "        csv_coder = taxi.make_csv_coder(schema)\n",
    "        raw_data = (\n",
    "            pipeline\n",
    "            | 'ReadFromText' >> beam.io.ReadFromText(\n",
    "                input_csv,\n",
    "                coder=beam.coders.BytesCoder(),\n",
    "                skip_header_lines=True)\n",
    "            | 'ParseCSV' >> beam.Map(csv_coder.decode))\n",
    "        \n",
    "        # Examples must be in clean tf-example format.\n",
    "        coder = taxi.make_proto_coder(schema)\n",
    "        raw_data = (\n",
    "            raw_data\n",
    "            | 'ToSerializedTFExample' >> beam.Map(coder.encode))\n",
    "\n",
    "        _ = (raw_data\n",
    "             | 'ExtractEvaluateAndWriteResults' >>\n",
    "             tfma.ExtractEvaluateAndWriteResults(\n",
    "                 eval_shared_model=eval_shared_model,\n",
    "                 slice_spec=slice_spec,\n",
    "                 output_path=get_tfma_output_dir(tfma_run_id),\n",
    "                 display_only_data_location=input_csv))\n",
    "\n",
    "    return tfma.load_eval_result(output_path=get_tfma_output_dir(tfma_run_id))\n",
    "    \n",
    "print('Done')"
   ]
  },
  {
   "cell_type": "markdown",
   "metadata": {
    "colab_type": "text",
    "id": "DC70sAOfKMo7"
   },
   "source": [
    "#### You can also compute metrics on slices of your data in TFMA. Slices can be specified using ``tfma.slicer.SingleSliceSpec``.\n",
    "\n",
    "Below are examples of how slices can be specified."
   ]
  },
  {
   "cell_type": "code",
   "execution_count": 21,
   "metadata": {
    "colab": {},
    "colab_type": "code",
    "id": "n2JA6QRGKPCr"
   },
   "outputs": [],
   "source": [
    "# An empty slice spec means the overall slice, that is, the whole dataset.\n",
    "OVERALL_SLICE_SPEC = tfma.slicer.SingleSliceSpec()\n",
    "\n",
    "# Data can be sliced along a feature column\n",
    "# In this case, data is sliced along feature column trip_start_hour.\n",
    "FEATURE_COLUMN_SLICE_SPEC = tfma.slicer.SingleSliceSpec(columns=['trip_start_hour'])\n",
    "\n",
    "# Data can be sliced by crossing feature columns\n",
    "# In this case, slices are computed for trip_start_day x trip_start_month.\n",
    "FEATURE_COLUMN_CROSS_SPEC = tfma.slicer.SingleSliceSpec(columns=['trip_start_day', 'trip_start_month'])\n",
    "\n",
    "# Metrics can be computed for a particular feature value.\n",
    "# In this case, metrics is computed for all data where trip_start_hour is 12.\n",
    "FEATURE_VALUE_SPEC = tfma.slicer.SingleSliceSpec(features=[('trip_start_hour', 12)])\n",
    "\n",
    "# It is also possible to mix column cross and feature value cross.\n",
    "# In this case, data where trip_start_hour is 12 will be sliced by trip_start_day.\n",
    "COLUMN_CROSS_VALUE_SPEC = tfma.slicer.SingleSliceSpec(columns=['trip_start_day'], features=[('trip_start_hour', 12)])\n",
    "\n",
    "ALL_SPECS = [\n",
    "    OVERALL_SLICE_SPEC,\n",
    "    FEATURE_COLUMN_SLICE_SPEC, \n",
    "    FEATURE_COLUMN_CROSS_SPEC, \n",
    "    FEATURE_VALUE_SPEC, \n",
    "    COLUMN_CROSS_VALUE_SPEC    \n",
    "]"
   ]
  },
  {
   "cell_type": "markdown",
   "metadata": {
    "colab_type": "text",
    "id": "As53x7HhKRVn"
   },
   "source": [
    "#### Let's run TFMA!"
   ]
  },
  {
   "cell_type": "code",
   "execution_count": 22,
   "metadata": {
    "colab": {},
    "colab_type": "code",
    "id": "9ffmUVhlKUBz"
   },
   "outputs": [
    {
     "name": "stdout",
     "output_type": "stream",
     "text": [
      "/home/two8g/tfx-source/tfx/examples/chicago_taxi/chicago_taxi_output/tf/run_0/eval_model_dir/1565840863\n"
     ]
    },
    {
     "name": "stderr",
     "output_type": "stream",
     "text": [
      "/home/two8g/tfx-source/tfx/examples/chicago_taxi/taxi/local/lib/python2.7/site-packages/tensorflow_model_analysis/slicer/slicer.py:407: BeamDeprecationWarning: RemoveDuplicates is deprecated since 2.12. Use Distinct instead.\n",
      "  | 'IncrementCounter' >> beam.Map(increment_counter))\n",
      "W0815 11:47:48.818335 140466153727808 deprecation.py:323] From /home/two8g/tfx-source/tfx/examples/chicago_taxi/taxi/local/lib/python2.7/site-packages/tensorflow_model_analysis/eval_saved_model/load.py:150: load (from tensorflow.python.saved_model.loader_impl) is deprecated and will be removed in a future version.\n",
      "Instructions for updating:\n",
      "This function will only be available through the v1 compatibility library as tf.compat.v1.saved_model.loader.load or tf.compat.v1.saved_model.load. There will be a new function for importing SavedModels in Tensorflow 2.0.\n",
      "I0815 11:47:49.881295 140466153727808 saver.py:1280] Restoring parameters from /home/two8g/tfx-source/tfx/examples/chicago_taxi/chicago_taxi_output/tf/run_0/eval_model_dir/1565840863/variables/variables\n",
      "W0815 11:47:50.107300 140466153727808 deprecation.py:323] From /home/two8g/tfx-source/tfx/examples/chicago_taxi/taxi/local/lib/python2.7/site-packages/tensorflow_model_analysis/eval_saved_model/graph_ref.py:189: get_tensor_from_tensor_info (from tensorflow.python.saved_model.utils_impl) is deprecated and will be removed in a future version.\n",
      "Instructions for updating:\n",
      "This function will only be available through the v1 compatibility library as tf.compat.v1.saved_model.utils.get_tensor_from_tensor_info or tf.compat.v1.saved_model.get_tensor_from_tensor_info.\n"
     ]
    },
    {
     "name": "stdout",
     "output_type": "stream",
     "text": [
      "Done\n"
     ]
    }
   ],
   "source": [
    "tf.logging.set_verbosity(tf.logging.INFO)\n",
    "\n",
    "tfma_result_1 = run_tfma(input_csv=os.path.join(EVAL_DATA_DIR, 'data.csv'), \n",
    "                         tf_run_id=0, \n",
    "                         tfma_run_id=1,\n",
    "                         slice_spec=ALL_SPECS,\n",
    "                         schema_file=get_schema_file())\n",
    "print('Done')\n"
   ]
  },
  {
   "cell_type": "markdown",
   "metadata": {
    "colab_type": "text",
    "id": "XdNnyYg0KVwi"
   },
   "source": [
    "## Visualization: Slicing Metrics\n",
    "\n",
    "To see the slices, either use the name of the column (by setting slicing_column) or provide a tfma.slicer.SingleSliceSpec (by setting slicing_spec). If neither is provided, the overall will be displayed.\n",
    "\n",
    "The default visualization is **slice overview** when the number of slices is small. It shows the value of a metric for each slice sorted by the another metric. It is also possible to set a threshold to filter out slices with smaller weights.\n",
    "\n",
    "This view also supports **metrics histogram** as an alternative visualization. It is also the defautl view when the number of slices is large. The results will be divided into buckets and the number of slices / total weights / both can be visualized. Slices with small weights can be fitlered out by setting the threshold. Further filtering can be applied by dragging the grey band. To reset the range, double click the band. Filtering can be used to remove outliers in the visualization and the metrics table below."
   ]
  },
  {
   "cell_type": "code",
   "execution_count": 23,
   "metadata": {
    "colab": {},
    "colab_type": "code",
    "id": "VtptlAgnKXt6"
   },
   "outputs": [
    {
     "data": {
      "application/vnd.jupyter.widget-view+json": {
       "model_id": "524083109733437ebe388a7abd826bdf",
       "version_major": 2,
       "version_minor": 0
      },
      "text/plain": [
       "U2xpY2luZ01ldHJpY3NWaWV3ZXIoY29uZmlnPXsnd2VpZ2h0ZWRFeGFtcGxlc0NvbHVtbic6ICdwb3N0X2V4cG9ydF9tZXRyaWNzL2V4YW1wbGVfY291bnQnfSwgZGF0YT1beydtZXRyaWNzJzrigKY=\n"
      ]
     },
     "metadata": {},
     "output_type": "display_data"
    }
   ],
   "source": [
    "# Show data sliced along feature column trip_start_hour.\n",
    "tfma.view.render_slicing_metrics(\n",
    "    tfma_result_1, slicing_column='trip_start_hour')"
   ]
  },
  {
   "cell_type": "code",
   "execution_count": 24,
   "metadata": {
    "colab": {},
    "colab_type": "code",
    "id": "J2CGlSfHKZ71"
   },
   "outputs": [
    {
     "data": {
      "application/vnd.jupyter.widget-view+json": {
       "model_id": "551ff85395ea458daccba0c5a80c9031",
       "version_major": 2,
       "version_minor": 0
      },
      "text/plain": [
       "U2xpY2luZ01ldHJpY3NWaWV3ZXIoY29uZmlnPXsnd2VpZ2h0ZWRFeGFtcGxlc0NvbHVtbic6ICdwb3N0X2V4cG9ydF9tZXRyaWNzL2V4YW1wbGVfY291bnQnfSwgZGF0YT1beydtZXRyaWNzJzrigKY=\n"
      ]
     },
     "metadata": {},
     "output_type": "display_data"
    }
   ],
   "source": [
    "# Show metrics sliced by COLUMN_CROSS_VALUE_SPEC above.\n",
    "tfma.view.render_slicing_metrics(tfma_result_1, slicing_spec=COLUMN_CROSS_VALUE_SPEC)"
   ]
  },
  {
   "cell_type": "code",
   "execution_count": 25,
   "metadata": {
    "colab": {},
    "colab_type": "code",
    "id": "6lkVP_RQKbgz"
   },
   "outputs": [
    {
     "data": {
      "application/vnd.jupyter.widget-view+json": {
       "model_id": "af9ec3927d3d4649a46a26228e8bf155",
       "version_major": 2,
       "version_minor": 0
      },
      "text/plain": [
       "U2xpY2luZ01ldHJpY3NWaWV3ZXIoY29uZmlnPXsnd2VpZ2h0ZWRFeGFtcGxlc0NvbHVtbic6ICdwb3N0X2V4cG9ydF9tZXRyaWNzL2V4YW1wbGVfY291bnQnfSwgZGF0YT1beydtZXRyaWNzJzrigKY=\n"
      ]
     },
     "metadata": {},
     "output_type": "display_data"
    }
   ],
   "source": [
    "# Show overall metrics.\n",
    "tfma.view.render_slicing_metrics(tfma_result_1)"
   ]
  },
  {
   "cell_type": "markdown",
   "metadata": {
    "colab_type": "text",
    "id": "585hmemUKc6L"
   },
   "source": [
    "## Visualization: Plots\n",
    "\n",
    "TFMA offers a number of built-in plots. To see them, add them to ``add_metrics_callbacks``"
   ]
  },
  {
   "cell_type": "code",
   "execution_count": null,
   "metadata": {
    "colab": {},
    "colab_type": "code",
    "id": "rSUDOrnYKemd"
   },
   "outputs": [
    {
     "name": "stdout",
     "output_type": "stream",
     "text": [
      "/home/two8g/tfx-source/tfx/examples/chicago_taxi/chicago_taxi_output/tf/run_0/eval_model_dir/1565840863\n"
     ]
    },
    {
     "name": "stderr",
     "output_type": "stream",
     "text": [
      "I0815 11:48:04.291826 140466153727808 saver.py:1280] Restoring parameters from /home/two8g/tfx-source/tfx/examples/chicago_taxi/chicago_taxi_output/tf/run_0/eval_model_dir/1565840863/variables/variables\n"
     ]
    }
   ],
   "source": [
    "tf.logging.set_verbosity(tf.logging.INFO)\n",
    "\n",
    "tfma_vis = run_tfma(input_csv=os.path.join(EVAL_DATA_DIR, 'data.csv'), \n",
    "                    tf_run_id=0,\n",
    "                    tfma_run_id='vis',\n",
    "                    slice_spec=ALL_SPECS,\n",
    "                    schema_file=get_schema_file(),\n",
    "                    add_metrics_callbacks=[\n",
    "                        # calibration_plot_and_prediction_histogram computes calibration plot and prediction\n",
    "                        # distribution at different thresholds.\n",
    "                        tfma.post_export_metrics.calibration_plot_and_prediction_histogram(),\n",
    "                        # auc_plots enables precision-recall curve and ROC visualization at different thresholds.\n",
    "                        tfma.post_export_metrics.auc_plots()\n",
    "                    ])\n",
    "\n",
    "print('Done')"
   ]
  },
  {
   "cell_type": "markdown",
   "metadata": {
    "colab_type": "text",
    "id": "XCpJn307KhHZ"
   },
   "source": [
    "Plots must be visualized for an individual slice. To specify a slice, use ``tfma.slicer.SingleSliceSpec``.\n",
    "\n",
    "In the example below, we are using ``tfma.slicer.SingleSliceSpec(features=[('trip_start_hour', 1)])`` to specify the slice where trip_start_hour is 1.\n",
    "\n",
    "Plots are interactive:\n",
    "- Drag to pan\n",
    "- Scroll to zoom\n",
    "- Right click to reset the view\n",
    "\n",
    "Simply hover over the desired data point to see more details."
   ]
  },
  {
   "cell_type": "code",
   "execution_count": null,
   "metadata": {
    "colab": {},
    "colab_type": "code",
    "id": "8ajak6hvKjvz"
   },
   "outputs": [],
   "source": [
    "tfma.view.render_plot(tfma_vis, tfma.slicer.SingleSliceSpec(features=[('trip_start_hour', 1)]))"
   ]
  },
  {
   "cell_type": "markdown",
   "metadata": {
    "colab_type": "text",
    "id": "JEQxCwlmKlMS"
   },
   "source": [
    "#### Custom metrics\n",
    "\n",
    "In addition to plots, it is also possible to compute additional metrics not present at export time or custom metrics metrics using ``add_metrics_callbacks``.\n",
    "\n",
    "All metrics in ``tf.metrics`` are supported in the callback and can be used to compose other metrics:\n",
    "https://www.tensorflow.org/api_docs/python/tf/metrics\n",
    "\n",
    "In the cells below, false negative rate is computed as an example."
   ]
  },
  {
   "cell_type": "code",
   "execution_count": null,
   "metadata": {
    "colab": {},
    "colab_type": "code",
    "id": "G6YlvQLrKmvz"
   },
   "outputs": [],
   "source": [
    "# Defines a callback that adds FNR to the result.\n",
    "def add_fnr_for_threshold(threshold):\n",
    "    def _add_fnr_callback(features_dict, predictions_dict, labels_dict):\n",
    "        metric_ops = {}\n",
    "        prediction_tensor = tf.cast(\n",
    "            predictions_dict.get(tf.contrib.learn.PredictionKey.LOGISTIC), tf.float64)\n",
    "        fn_value_op, fn_update_op = tf.metrics.false_negatives_at_thresholds(tf.squeeze(labels_dict), \n",
    "                                                                             tf.squeeze(prediction_tensor), \n",
    "                                                                             [threshold])\n",
    "        tp_value_op, tp_update_op = tf.metrics.true_positives_at_thresholds(tf.squeeze(labels_dict), \n",
    "                                                                            tf.squeeze(prediction_tensor), \n",
    "                                                                            [threshold])\n",
    "        fnr = fn_value_op[0] / (fn_value_op[0] + tp_value_op[0])\n",
    "        metric_ops['FNR@' + str(threshold)] = (fnr, tf.group(fn_update_op, tp_update_op)) \n",
    "        return metric_ops\n",
    "    \n",
    "    return _add_fnr_callback"
   ]
  },
  {
   "cell_type": "code",
   "execution_count": null,
   "metadata": {
    "colab": {},
    "colab_type": "code",
    "id": "9pWXzEMvKpm6"
   },
   "outputs": [],
   "source": [
    "tf.logging.set_verbosity(tf.logging.INFO)\n",
    "\n",
    "tfma_fnr = run_tfma(input_csv=os.path.join(EVAL_DATA_DIR, 'data.csv'), \n",
    "                    tf_run_id=0,\n",
    "                    tfma_run_id='fnr',\n",
    "                    slice_spec=ALL_SPECS,\n",
    "                    schema_file=get_schema_file(),\n",
    "                    add_metrics_callbacks=[\n",
    "                        # Simply add the call here.\n",
    "                        add_fnr_for_threshold(0.75)\n",
    "                    ])\n",
    "tfma.view.render_slicing_metrics(tfma_fnr, slicing_spec=FEATURE_COLUMN_SLICE_SPEC)"
   ]
  },
  {
   "cell_type": "markdown",
   "metadata": {
    "colab_type": "text",
    "id": "brWQBOnuKrJq"
   },
   "source": [
    "## Visualization: Time Series\n",
    "\n",
    "It is important to track how your model is doing over time. TFMA offers two modes to show your model performs over time.\n",
    "\n",
    "**Multiple model analysis** shows how model perfoms from one version to another. This is useful early on to see how the addition of new features, change in modeling technique, etc, affects the performance. TFMA offers a convenient method."
   ]
  },
  {
   "cell_type": "code",
   "execution_count": null,
   "metadata": {
    "colab": {},
    "colab_type": "code",
    "id": "EnsBKnmrKtdJ"
   },
   "outputs": [],
   "source": [
    "help(tfma.multiple_model_analysis)"
   ]
  },
  {
   "cell_type": "markdown",
   "metadata": {
    "colab_type": "text",
    "id": "JtHDM1sPKvBx"
   },
   "source": [
    "**Multiple data analysis** shows how a model perfoms under different evaluation data set. This is useful to ensure that model performance does not degrade over time. TFMA offer a conveneient method."
   ]
  },
  {
   "cell_type": "code",
   "execution_count": null,
   "metadata": {
    "colab": {},
    "colab_type": "code",
    "id": "kG7Ff-2YKwsK"
   },
   "outputs": [],
   "source": [
    "help(tfma.multiple_data_analysis)"
   ]
  },
  {
   "cell_type": "markdown",
   "metadata": {
    "colab_type": "text",
    "id": "OsfW6L2QKyGq"
   },
   "source": [
    "It is also possible to compose a time series manually."
   ]
  },
  {
   "cell_type": "code",
   "execution_count": null,
   "metadata": {
    "colab": {},
    "colab_type": "code",
    "id": "cxzmxsJyKzxC"
   },
   "outputs": [],
   "source": [
    "# Create different models.\n",
    "\n",
    "# Run some experiments with different hidden layer configurations.\n",
    "run_local_experiment(tft_run_id=0,\n",
    "                     tf_run_id=1,\n",
    "                     num_layers=3,\n",
    "                     first_layer_size=200,\n",
    "                     scale_factor=0.7)\n",
    "\n",
    "run_local_experiment(tft_run_id=0,\n",
    "                     tf_run_id=2,\n",
    "                     num_layers=4,\n",
    "                     first_layer_size=240,\n",
    "                     scale_factor=0.5)\n",
    "\n",
    "print('Done')"
   ]
  },
  {
   "cell_type": "code",
   "execution_count": null,
   "metadata": {
    "colab": {},
    "colab_type": "code",
    "id": "SLBflNxyK14D"
   },
   "outputs": [],
   "source": [
    "tfma_result_2 = run_tfma(input_csv=os.path.join(EVAL_DATA_DIR, 'data.csv'), \n",
    "                         tf_run_id=1, \n",
    "                         tfma_run_id=2,                         \n",
    "                         slice_spec=ALL_SPECS,\n",
    "                         schema_file=get_schema_file())\n",
    "\n",
    "tfma_result_3 = run_tfma(input_csv=os.path.join(EVAL_DATA_DIR, 'data.csv'), \n",
    "                         tf_run_id=2, \n",
    "                         tfma_run_id=3,\n",
    "                         slice_spec=ALL_SPECS,\n",
    "                         schema_file=get_schema_file())\n",
    "print('Done')"
   ]
  },
  {
   "cell_type": "markdown",
   "metadata": {
    "colab_type": "text",
    "id": "N5ZVlsu3K3s6"
   },
   "source": [
    "Like plots, time series view must visualized for a slice too.\n",
    "\n",
    "In the example below, we are showing the overall slice.\n",
    "\n",
    "Select a metric to see its time series graph. Hover over each data point to get more details."
   ]
  },
  {
   "cell_type": "code",
   "execution_count": null,
   "metadata": {
    "colab": {},
    "colab_type": "code",
    "id": "d52jgg8WK51T"
   },
   "outputs": [],
   "source": [
    "eval_results = tfma.make_eval_results([tfma_result_1, tfma_result_2, tfma_result_3], \n",
    "                                      tfma.constants.MODEL_CENTRIC_MODE)\n",
    "tfma.view.render_time_series(eval_results, OVERALL_SLICE_SPEC)\n"
   ]
  },
  {
   "cell_type": "markdown",
   "metadata": {
    "colab_type": "text",
    "id": "T9o8bZWRK8Fi"
   },
   "source": [
    "Serialized results can also be used to construct a time series. Thus, there is no need to re-run TFMA for models already evaluated for a long running pipeline."
   ]
  },
  {
   "cell_type": "code",
   "execution_count": null,
   "metadata": {
    "colab": {},
    "colab_type": "code",
    "id": "zYyVJEWWK90c"
   },
   "outputs": [],
   "source": [
    "# Visualize the results in a Time Series. In this case, we are showing the slice specified.\n",
    "eval_results_from_disk = tfma.load_eval_results([get_tfma_output_dir(1), \n",
    "                                                 get_tfma_output_dir(2), \n",
    "                                                 get_tfma_output_dir(3)], \n",
    "                                                tfma.constants.MODEL_CENTRIC_MODE)\n",
    "tfma.view.render_time_series(eval_results_from_disk, FEATURE_VALUE_SPEC)"
   ]
  },
  {
   "cell_type": "code",
   "execution_count": null,
   "metadata": {},
   "outputs": [],
   "source": []
  }
 ],
 "metadata": {
  "colab": {
   "collapsed_sections": [],
   "name": "chicago_taxi_tfma_local_playground.ipynb",
   "provenance": [],
   "version": "0.3.2"
  },
  "kernelspec": {
   "display_name": "Python 2",
   "language": "python",
   "name": "python2"
  },
  "language_info": {
   "codemirror_mode": {
    "name": "ipython",
    "version": 2
   },
   "file_extension": ".py",
   "mimetype": "text/x-python",
   "name": "python",
   "nbconvert_exporter": "python",
   "pygments_lexer": "ipython2",
   "version": "2.7.15+"
  }
 },
 "nbformat": 4,
 "nbformat_minor": 1
}
